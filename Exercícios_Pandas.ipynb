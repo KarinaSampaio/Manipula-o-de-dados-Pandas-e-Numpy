{
 "cells": [
  {
   "metadata": {},
   "cell_type": "markdown",
   "source": "## 1. Exercício : Crie uma Série a partir de uma lista de 5 números e exiba seus valores e índices.",
   "id": "24cc9bd4719565a0"
  },
  {
   "metadata": {
    "ExecuteTime": {
     "end_time": "2024-06-25T23:56:00.512980Z",
     "start_time": "2024-06-25T23:56:00.501012Z"
    }
   },
   "cell_type": "code",
   "source": [
    "import pandas as pd\n",
    "\n",
    "# Criando uma Série a partir de uma lista de 5 números\n",
    "data = [10, 20, 30, 40, 50]\n",
    "series = pd.Series(data)\n",
    "\n",
    "# Exibindo os valores e índices da Série\n",
    "print(\"Valores da Série:\")\n",
    "print(series.values)\n",
    "print(\"Índices da Série:\")\n",
    "print(series.index)\n",
    "print(\"Série completa:\")\n",
    "print(series)\n",
    "\n"
   ],
   "id": "916fd7341c24848d",
   "outputs": [
    {
     "name": "stdout",
     "output_type": "stream",
     "text": [
      "Valores da Série:\n",
      "[10 20 30 40 50]\n",
      "Índices da Série:\n",
      "RangeIndex(start=0, stop=5, step=1)\n",
      "Série completa:\n",
      "0    10\n",
      "1    20\n",
      "2    30\n",
      "3    40\n",
      "4    50\n",
      "dtype: int64\n"
     ]
    }
   ],
   "execution_count": 4
  },
  {
   "metadata": {},
   "cell_type": "markdown",
   "source": "#### 2. Exercício : Crie um DataFrame a partir do seguinte dicionário de dados e exiba as colunas e os índices.",
   "id": "98b6f9f1ceab1c70"
  },
  {
   "metadata": {
    "ExecuteTime": {
     "end_time": "2024-06-25T23:57:03.732836Z",
     "start_time": "2024-06-25T23:57:03.703682Z"
    }
   },
   "cell_type": "code",
   "source": [
    "import pandas as pd\n",
    "\n",
    "# Dicionário de dados\n",
    "dados = {\n",
    "    'Nome': ['Ana', 'Bruno', 'Carlos', 'Daniela', 'Eduardo'],\n",
    "    'Idade': [23, 35, 45, 22, 30],\n",
    "    'Cidade': ['São Paulo', 'Rio de Janeiro', 'Belo Horizonte', 'Porto Alegre', 'Curitiba']\n",
    "}\n",
    "\n",
    "# Criando o DataFrame\n",
    "df = pd.DataFrame(dados)\n",
    "\n",
    "# Exibindo as colunas e os índices do DataFrame\n",
    "print(\"Colunas do DataFrame:\")\n",
    "print(df.columns)\n",
    "print(\"Índices do DataFrame:\")\n",
    "print(df.index)\n",
    "print(\"DataFrame completo:\")\n",
    "print(df)\n"
   ],
   "id": "48231df1152049a4",
   "outputs": [
    {
     "name": "stdout",
     "output_type": "stream",
     "text": [
      "Colunas do DataFrame:\n",
      "Index(['Nome', 'Idade', 'Cidade'], dtype='object')\n",
      "Índices do DataFrame:\n",
      "RangeIndex(start=0, stop=5, step=1)\n",
      "DataFrame completo:\n",
      "      Nome  Idade          Cidade\n",
      "0      Ana     23       São Paulo\n",
      "1    Bruno     35  Rio de Janeiro\n",
      "2   Carlos     45  Belo Horizonte\n",
      "3  Daniela     22    Porto Alegre\n",
      "4  Eduardo     30        Curitiba\n"
     ]
    }
   ],
   "execution_count": 5
  },
  {
   "metadata": {},
   "cell_type": "markdown",
   "source": "### 3. Exercício : Adicione uma coluna 'Desconto' ao DataFrame criado no exercício 2, onde o desconto é 10% do preço.",
   "id": "ad0ba635315ac378"
  },
  {
   "metadata": {
    "ExecuteTime": {
     "end_time": "2024-06-25T23:58:14.846733Z",
     "start_time": "2024-06-25T23:58:14.801115Z"
    }
   },
   "cell_type": "code",
   "source": [
    "import pandas as pd\n",
    "\n",
    "# Dicionário de dados (incluindo a coluna 'Preço')\n",
    "dados = {\n",
    "    'Nome': ['Ana', 'Bruno', 'Carlos', 'Daniela', 'Eduardo'],\n",
    "    'Idade': [23, 35, 45, 22, 30],\n",
    "    'Cidade': ['São Paulo', 'Rio de Janeiro', 'Belo Horizonte', 'Porto Alegre', 'Curitiba'],\n",
    "    'Preço': [100, 200, 300, 400, 500]  # Valores fictícios para a coluna 'Preço'\n",
    "}\n",
    "\n",
    "# Criando o DataFrame\n",
    "df = pd.DataFrame(dados)\n",
    "\n",
    "# Adicionando a coluna 'Desconto' (10% do preço)\n",
    "df['Desconto'] = df['Preço'] * 0.10\n",
    "\n",
    "# Exibindo o DataFrame completo\n",
    "print(\"DataFrame com a coluna 'Desconto':\")\n",
    "print(df)\n"
   ],
   "id": "51134515cd8523fb",
   "outputs": [
    {
     "name": "stdout",
     "output_type": "stream",
     "text": [
      "DataFrame com a coluna 'Desconto':\n",
      "      Nome  Idade          Cidade  Preço  Desconto\n",
      "0      Ana     23       São Paulo    100      10.0\n",
      "1    Bruno     35  Rio de Janeiro    200      20.0\n",
      "2   Carlos     45  Belo Horizonte    300      30.0\n",
      "3  Daniela     22    Porto Alegre    400      40.0\n",
      "4  Eduardo     30        Curitiba    500      50.0\n"
     ]
    }
   ],
   "execution_count": 6
  },
  {
   "metadata": {},
   "cell_type": "markdown",
   "source": "#### 4. Exercício : Usando o DataFrame criado na aula, selecione todos os funcionários com idade superior a 30 anos e exiba apenas as colunas 'Nome' e 'Idade'.",
   "id": "b3f3482ca369fd94"
  },
  {
   "metadata": {
    "ExecuteTime": {
     "end_time": "2024-06-25T23:59:15.729798Z",
     "start_time": "2024-06-25T23:59:15.651989Z"
    }
   },
   "cell_type": "code",
   "source": [
    "import pandas as pd\n",
    "\n",
    "# Dicionário de dados (incluindo a coluna 'Preço' e 'Desconto')\n",
    "dados = {\n",
    "    'Nome': ['Ana', 'Bruno', 'Carlos', 'Daniela', 'Eduardo'],\n",
    "    'Idade': [23, 35, 45, 22, 30],\n",
    "    'Cidade': ['São Paulo', 'Rio de Janeiro', 'Belo Horizonte', 'Porto Alegre', 'Curitiba'],\n",
    "    'Preço': [100, 200, 300, 400, 500],  # Valores fictícios para a coluna 'Preço'\n",
    "    'Desconto': [10.0, 20.0, 30.0, 40.0, 50.0]  # Descontos já calculados\n",
    "}\n",
    "\n",
    "# Criando o DataFrame\n",
    "df = pd.DataFrame(dados)\n",
    "\n",
    "# Filtrando funcionários com idade superior a 30 anos\n",
    "filtro = df['Idade'] > 30\n",
    "\n",
    "# Selecionando as colunas 'Nome' e 'Idade'\n",
    "resultado = df.loc[filtro, ['Nome', 'Idade']]\n",
    "\n",
    "# Exibindo o resultado\n",
    "print(\"Funcionários com idade superior a 30 anos:\")\n",
    "print(resultado)\n"
   ],
   "id": "7acc44fe69803d1",
   "outputs": [
    {
     "name": "stdout",
     "output_type": "stream",
     "text": [
      "Funcionários com idade superior a 30 anos:\n",
      "     Nome  Idade\n",
      "1   Bruno     35\n",
      "2  Carlos     45\n"
     ]
    }
   ],
   "execution_count": 7
  },
  {
   "metadata": {},
   "cell_type": "markdown",
   "source": "#### 5. Exercício : Crie um novo DataFrame com os mesmos dados do DataFrame original, mas sem a coluna 'Salário'. Em seguida, adicione uma coluna 'Imposto' onde o valor é 15% do salário original.",
   "id": "c8f784648ab5a32b"
  },
  {
   "metadata": {
    "ExecuteTime": {
     "end_time": "2024-06-26T00:26:47.767292Z",
     "start_time": "2024-06-26T00:26:46.307808Z"
    }
   },
   "cell_type": "code",
   "source": [
    "import pandas as pd\n",
    "\n",
    "# Dicionário de dados original\n",
    "dados = {\n",
    "    'Nome': ['Ana', 'Bruno', 'Carlos', 'Daniela', 'Eduardo'],\n",
    "    'Idade': [23, 35, 45, 22, 30],\n",
    "    'Cidade': ['São Paulo', 'Rio de Janeiro', 'Belo Horizonte', 'Porto Alegre', 'Curitiba'],\n",
    "    'Salário': [3000, 4000, 5000, 2500, 3500]\n",
    "}\n",
    "\n",
    "# Criando o DataFrame original\n",
    "df = pd.DataFrame(dados)\n",
    "\n",
    "# Criando um novo DataFrame sem a coluna 'Salário'\n",
    "df_sem_salario = df.drop(columns=['Salário'])\n",
    "\n",
    "# Adicionando a coluna 'Imposto' (15% do salário original)\n",
    "df_sem_salario['Imposto'] = df['Salário'] * 0.15\n",
    "\n",
    "# Exibindo o novo DataFrame\n",
    "print(\"Novo DataFrame sem a coluna 'Salário' e com a coluna 'Imposto':\")\n",
    "print(df_sem_salario)\n"
   ],
   "id": "c7f7ded948a12bea",
   "outputs": [
    {
     "name": "stdout",
     "output_type": "stream",
     "text": [
      "Novo DataFrame sem a coluna 'Salário' e com a coluna 'Imposto':\n",
      "      Nome  Idade          Cidade  Imposto\n",
      "0      Ana     23       São Paulo    450.0\n",
      "1    Bruno     35  Rio de Janeiro    600.0\n",
      "2   Carlos     45  Belo Horizonte    750.0\n",
      "3  Daniela     22    Porto Alegre    375.0\n",
      "4  Eduardo     30        Curitiba    525.0\n"
     ]
    }
   ],
   "execution_count": 12
  },
  {
   "metadata": {},
   "cell_type": "markdown",
   "source": "#### 6. Exercício : Crie um DataFrame a partir do seguinte dicionário de dados:",
   "id": "2db5ba2a5f8b7b3c"
  },
  {
   "metadata": {
    "ExecuteTime": {
     "end_time": "2024-06-26T00:09:42.020901Z",
     "start_time": "2024-06-26T00:09:41.998250Z"
    }
   },
   "cell_type": "code",
   "source": [
    "import pandas as pd\n",
    "\n",
    "# Dicionário de dados\n",
    "dados = {\n",
    "    'Nome': ['Ana', 'Bruno', 'Carlos', 'Daniela', 'Eduardo'],\n",
    "    'Idade': [23, 35, 45, 22, 30],\n",
    "    'Cidade': ['São Paulo', 'Rio de Janeiro', 'Belo Horizonte', 'Porto Alegre', 'Curitiba'],\n",
    "    'Salário': [3000, 4000, 5000, 2500, 3500]\n",
    "}\n",
    "\n",
    "# Criando o DataFrame\n",
    "df = pd.DataFrame(dados)\n",
    "\n",
    "# Exibindo o DataFrame\n",
    "print(\"DataFrame criado a partir do dicionário de dados:\")\n",
    "print(df)\n"
   ],
   "id": "596b8affbfac8b8b",
   "outputs": [
    {
     "name": "stdout",
     "output_type": "stream",
     "text": [
      "DataFrame criado a partir do dicionário de dados:\n",
      "      Nome  Idade          Cidade  Salário\n",
      "0      Ana     23       São Paulo     3000\n",
      "1    Bruno     35  Rio de Janeiro     4000\n",
      "2   Carlos     45  Belo Horizonte     5000\n",
      "3  Daniela     22    Porto Alegre     2500\n",
      "4  Eduardo     30        Curitiba     3500\n"
     ]
    }
   ],
   "execution_count": 11
  },
  {
   "metadata": {},
   "cell_type": "code",
   "outputs": [],
   "execution_count": null,
   "source": "",
   "id": "8e85f9e1d863a8b"
  }
 ],
 "metadata": {
  "kernelspec": {
   "display_name": "Python 3",
   "language": "python",
   "name": "python3"
  },
  "language_info": {
   "codemirror_mode": {
    "name": "ipython",
    "version": 2
   },
   "file_extension": ".py",
   "mimetype": "text/x-python",
   "name": "python",
   "nbconvert_exporter": "python",
   "pygments_lexer": "ipython2",
   "version": "2.7.6"
  }
 },
 "nbformat": 4,
 "nbformat_minor": 5
}
