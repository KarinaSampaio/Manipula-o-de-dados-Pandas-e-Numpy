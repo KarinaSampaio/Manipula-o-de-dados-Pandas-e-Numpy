{
 "cells": [
  {
   "cell_type": "markdown",
   "id": "68fdb1e7-1ea9-45ca-905b-10a6367fb53d",
   "metadata": {},
   "source": [
    "# Aula 6 - Introdução à Manipulação de Dados com Pandas I"
   ]
  },
  {
   "cell_type": "markdown",
   "id": "6c75fac8-ce30-405a-96af-69f677c41667",
   "metadata": {},
   "source": [
    "### 1. Introdução ao Pandas\n",
    "Pandas é uma biblioteca Python de código aberto que oferece estruturas de dados e ferramentas de análise de dados de alto desempenho e fáceis de usar.\n",
    "\n",
    "https://pandas.pydata.org/\n",
    "\n",
    "##### Estruturas de Dados do Pandas:\n",
    "\n",
    "* **Séries**: Um array unidimensional com rótulos.\n",
    "* **DataFrames**: Uma tabela bidimensional com rótulos em linhas e colunas."
   ]
  },
  {
   "cell_type": "markdown",
   "id": "23e242eb-6534-473c-8944-32b5e0aff221",
   "metadata": {},
   "source": [
    "### 2. Séries no Pandas\n",
    "\n",
    "#### 2.1 Criação de Séries"
   ]
  },
  {
   "cell_type": "code",
   "execution_count": 1,
   "id": "3e5b1e08-c33d-42f0-ae6b-84b223db1f18",
   "metadata": {},
   "outputs": [
    {
     "data": {
      "text/plain": [
       "0    1\n",
       "1    2\n",
       "2    3\n",
       "3    4\n",
       "4    5\n",
       "dtype: int64"
      ]
     },
     "execution_count": 1,
     "metadata": {},
     "output_type": "execute_result"
    }
   ],
   "source": [
    "import pandas as pd\n",
    "\n",
    "# Criando uma Série a partir de uma lista\n",
    "data = [1, 2, 3, 4, 5]\n",
    "series = pd.Series(data)\n",
    "series"
   ]
  },
  {
   "cell_type": "code",
   "execution_count": 2,
   "id": "769b96c9-175e-4090-bd74-4cf8ff390a6e",
   "metadata": {},
   "outputs": [
    {
     "data": {
      "text/plain": [
       "a    1\n",
       "b    2\n",
       "c    3\n",
       "dtype: int64"
      ]
     },
     "execution_count": 2,
     "metadata": {},
     "output_type": "execute_result"
    }
   ],
   "source": [
    "# Criando uma Série a partir de um dicionário\n",
    "data_dict = {'a': 1, 'b': 2, 'c': 3}\n",
    "series_dict = pd.Series(data_dict)\n",
    "series_dict\n"
   ]
  },
  {
   "cell_type": "code",
   "execution_count": 3,
   "id": "14ddd67f-9b62-4f76-8c43-59bc37f5ecfd",
   "metadata": {},
   "outputs": [
    {
     "data": {
      "text/plain": [
       "0    10\n",
       "1    20\n",
       "2    30\n",
       "3    40\n",
       "dtype: int32"
      ]
     },
     "execution_count": 3,
     "metadata": {},
     "output_type": "execute_result"
    }
   ],
   "source": [
    "# Criando uma Série a partir de um array do NumPy\n",
    "import numpy as np\n",
    "data_np = np.array([10, 20, 30, 40])\n",
    "series_np = pd.Series(data_np)\n",
    "series_np"
   ]
  },
  {
   "cell_type": "markdown",
   "id": "0cea003a-006b-41af-adb1-403b9efe9aa7",
   "metadata": {},
   "source": [
    "#### 2.2 Atributos de uma Série"
   ]
  },
  {
   "cell_type": "code",
   "execution_count": 4,
   "id": "a8d2e55a-bccc-4493-82c7-b0835697be81",
   "metadata": {},
   "outputs": [
    {
     "data": {
      "text/plain": [
       "RangeIndex(start=0, stop=5, step=1)"
      ]
     },
     "execution_count": 4,
     "metadata": {},
     "output_type": "execute_result"
    }
   ],
   "source": [
    "# Índices da Série\n",
    "series.index"
   ]
  },
  {
   "cell_type": "code",
   "execution_count": 5,
   "id": "c6e0097b-0b2b-4b63-97f7-b2dd7eda2755",
   "metadata": {},
   "outputs": [
    {
     "data": {
      "text/plain": [
       "array([1, 2, 3, 4, 5], dtype=int64)"
      ]
     },
     "execution_count": 5,
     "metadata": {},
     "output_type": "execute_result"
    }
   ],
   "source": [
    "# Valores da Série\n",
    "series.values"
   ]
  },
  {
   "cell_type": "code",
   "execution_count": 6,
   "id": "a8f6cff1-27dd-4ea6-aa2f-bab332563aea",
   "metadata": {},
   "outputs": [
    {
     "data": {
      "text/plain": [
       "Index(['a', 'b', 'c'], dtype='object')"
      ]
     },
     "execution_count": 6,
     "metadata": {},
     "output_type": "execute_result"
    }
   ],
   "source": [
    "# Índices da Série criada a partir de dicionário\n",
    "series_dict.index"
   ]
  },
  {
   "cell_type": "code",
   "execution_count": 7,
   "id": "a5abc441-3122-40e2-a8ca-3dbb6a446f2b",
   "metadata": {},
   "outputs": [
    {
     "data": {
      "text/plain": [
       "array([10, 20, 30, 40])"
      ]
     },
     "execution_count": 7,
     "metadata": {},
     "output_type": "execute_result"
    }
   ],
   "source": [
    "# Valores da Série criada a partir de array do NumPy\n",
    "series_np.values"
   ]
  },
  {
   "cell_type": "markdown",
   "id": "b9233350-d301-488c-8308-9fba513cf663",
   "metadata": {},
   "source": [
    "#### 2.3 Personalizando Índices"
   ]
  },
  {
   "cell_type": "code",
   "execution_count": 8,
   "id": "6a1b7faa-0384-4086-ab91-f6ed5208daa9",
   "metadata": {},
   "outputs": [
    {
     "data": {
      "text/plain": [
       "a    1\n",
       "b    2\n",
       "c    3\n",
       "d    4\n",
       "e    5\n",
       "dtype: int64"
      ]
     },
     "execution_count": 8,
     "metadata": {},
     "output_type": "execute_result"
    }
   ],
   "source": [
    "data = [1, 2, 3, 4, 5]\n",
    "index = ['a', 'b', 'c', 'd', 'e']\n",
    "series = pd.Series(data, index=index)\n",
    "series"
   ]
  },
  {
   "cell_type": "code",
   "execution_count": 9,
   "id": "1fd6697e-3c73-4f9d-b913-e937d086cd7b",
   "metadata": {},
   "outputs": [
    {
     "data": {
      "text/plain": [
       "x    10\n",
       "y    20\n",
       "z    30\n",
       "w    40\n",
       "dtype: int32"
      ]
     },
     "execution_count": 9,
     "metadata": {},
     "output_type": "execute_result"
    }
   ],
   "source": [
    "# Personalizando índices ao criar uma Série a partir de um array\n",
    "data_np = np.array([10, 20, 30, 40])\n",
    "index_np = ['x', 'y', 'z', 'w']\n",
    "series_np = pd.Series(data_np, index=index_np)\n",
    "series_np"
   ]
  },
  {
   "cell_type": "markdown",
   "id": "6be50698-09af-4020-a89a-5ea37cd825b3",
   "metadata": {},
   "source": [
    "### 3. DataFrames no Pandas\n",
    "\n",
    "#### 3.1 Criação de DataFrames"
   ]
  },
  {
   "cell_type": "code",
   "execution_count": 10,
   "id": "27dad819-5692-4e41-bab7-645787871543",
   "metadata": {},
   "outputs": [
    {
     "data": {
      "text/html": [
       "<div>\n",
       "<style scoped>\n",
       "    .dataframe tbody tr th:only-of-type {\n",
       "        vertical-align: middle;\n",
       "    }\n",
       "\n",
       "    .dataframe tbody tr th {\n",
       "        vertical-align: top;\n",
       "    }\n",
       "\n",
       "    .dataframe thead th {\n",
       "        text-align: right;\n",
       "    }\n",
       "</style>\n",
       "<table border=\"1\" class=\"dataframe\">\n",
       "  <thead>\n",
       "    <tr style=\"text-align: right;\">\n",
       "      <th></th>\n",
       "      <th>Nome</th>\n",
       "      <th>Idade</th>\n",
       "      <th>Salário</th>\n",
       "    </tr>\n",
       "  </thead>\n",
       "  <tbody>\n",
       "    <tr>\n",
       "      <th>0</th>\n",
       "      <td>Ana</td>\n",
       "      <td>28</td>\n",
       "      <td>7000</td>\n",
       "    </tr>\n",
       "    <tr>\n",
       "      <th>1</th>\n",
       "      <td>Bruno</td>\n",
       "      <td>34</td>\n",
       "      <td>8000</td>\n",
       "    </tr>\n",
       "    <tr>\n",
       "      <th>2</th>\n",
       "      <td>Carlos</td>\n",
       "      <td>29</td>\n",
       "      <td>5000</td>\n",
       "    </tr>\n",
       "    <tr>\n",
       "      <th>3</th>\n",
       "      <td>Daniela</td>\n",
       "      <td>42</td>\n",
       "      <td>6500</td>\n",
       "    </tr>\n",
       "    <tr>\n",
       "      <th>4</th>\n",
       "      <td>Eduardo</td>\n",
       "      <td>36</td>\n",
       "      <td>10000</td>\n",
       "    </tr>\n",
       "  </tbody>\n",
       "</table>\n",
       "</div>"
      ],
      "text/plain": [
       "      Nome  Idade  Salário\n",
       "0      Ana     28     7000\n",
       "1    Bruno     34     8000\n",
       "2   Carlos     29     5000\n",
       "3  Daniela     42     6500\n",
       "4  Eduardo     36    10000"
      ]
     },
     "execution_count": 10,
     "metadata": {},
     "output_type": "execute_result"
    }
   ],
   "source": [
    "data = {\n",
    "    'Nome': ['Ana', 'Bruno', 'Carlos', 'Daniela', 'Eduardo'],\n",
    "    'Idade': [28, 34, 29, 42, 36],\n",
    "    'Salário': [7000, 8000, 5000, 6500, 10000]\n",
    "}\n",
    "\n",
    "df = pd.DataFrame(data)\n",
    "df"
   ]
  },
  {
   "cell_type": "code",
   "execution_count": 11,
   "id": "e19a4fb5-f4ce-4e15-b8d0-906d4d3b6c0a",
   "metadata": {},
   "outputs": [
    {
     "data": {
      "text/html": [
       "<div>\n",
       "<style scoped>\n",
       "    .dataframe tbody tr th:only-of-type {\n",
       "        vertical-align: middle;\n",
       "    }\n",
       "\n",
       "    .dataframe tbody tr th {\n",
       "        vertical-align: top;\n",
       "    }\n",
       "\n",
       "    .dataframe thead th {\n",
       "        text-align: right;\n",
       "    }\n",
       "</style>\n",
       "<table border=\"1\" class=\"dataframe\">\n",
       "  <thead>\n",
       "    <tr style=\"text-align: right;\">\n",
       "      <th></th>\n",
       "      <th>Nome</th>\n",
       "      <th>Idade</th>\n",
       "      <th>Salário</th>\n",
       "    </tr>\n",
       "  </thead>\n",
       "  <tbody>\n",
       "    <tr>\n",
       "      <th>0</th>\n",
       "      <td>Ana</td>\n",
       "      <td>28</td>\n",
       "      <td>7000</td>\n",
       "    </tr>\n",
       "    <tr>\n",
       "      <th>1</th>\n",
       "      <td>Bruno</td>\n",
       "      <td>34</td>\n",
       "      <td>8000</td>\n",
       "    </tr>\n",
       "    <tr>\n",
       "      <th>2</th>\n",
       "      <td>Carlos</td>\n",
       "      <td>29</td>\n",
       "      <td>5000</td>\n",
       "    </tr>\n",
       "    <tr>\n",
       "      <th>3</th>\n",
       "      <td>Daniela</td>\n",
       "      <td>42</td>\n",
       "      <td>6500</td>\n",
       "    </tr>\n",
       "    <tr>\n",
       "      <th>4</th>\n",
       "      <td>Eduardo</td>\n",
       "      <td>36</td>\n",
       "      <td>10000</td>\n",
       "    </tr>\n",
       "  </tbody>\n",
       "</table>\n",
       "</div>"
      ],
      "text/plain": [
       "      Nome  Idade  Salário\n",
       "0      Ana     28     7000\n",
       "1    Bruno     34     8000\n",
       "2   Carlos     29     5000\n",
       "3  Daniela     42     6500\n",
       "4  Eduardo     36    10000"
      ]
     },
     "execution_count": 11,
     "metadata": {},
     "output_type": "execute_result"
    }
   ],
   "source": [
    "# Criando um DataFrame a partir de uma lista de listas\n",
    "data_list = [\n",
    "    ['Ana', 28, 7000],\n",
    "    ['Bruno', 34, 8000],\n",
    "    ['Carlos', 29, 5000],\n",
    "    ['Daniela', 42, 6500],\n",
    "    ['Eduardo', 36, 10000]\n",
    "]\n",
    "df_list = pd.DataFrame(data_list, columns=['Nome', 'Idade', 'Salário'])\n",
    "df_list\n"
   ]
  },
  {
   "cell_type": "code",
   "execution_count": 12,
   "id": "f4447c84-6692-4be4-ad5a-b80100d86242",
   "metadata": {},
   "outputs": [
    {
     "data": {
      "text/html": [
       "<div>\n",
       "<style scoped>\n",
       "    .dataframe tbody tr th:only-of-type {\n",
       "        vertical-align: middle;\n",
       "    }\n",
       "\n",
       "    .dataframe tbody tr th {\n",
       "        vertical-align: top;\n",
       "    }\n",
       "\n",
       "    .dataframe thead th {\n",
       "        text-align: right;\n",
       "    }\n",
       "</style>\n",
       "<table border=\"1\" class=\"dataframe\">\n",
       "  <thead>\n",
       "    <tr style=\"text-align: right;\">\n",
       "      <th></th>\n",
       "      <th>Nome</th>\n",
       "      <th>Idade</th>\n",
       "      <th>Salário</th>\n",
       "    </tr>\n",
       "  </thead>\n",
       "  <tbody>\n",
       "    <tr>\n",
       "      <th>0</th>\n",
       "      <td>Ana</td>\n",
       "      <td>28</td>\n",
       "      <td>7000</td>\n",
       "    </tr>\n",
       "    <tr>\n",
       "      <th>1</th>\n",
       "      <td>Bruno</td>\n",
       "      <td>34</td>\n",
       "      <td>8000</td>\n",
       "    </tr>\n",
       "    <tr>\n",
       "      <th>2</th>\n",
       "      <td>Carlos</td>\n",
       "      <td>29</td>\n",
       "      <td>5000</td>\n",
       "    </tr>\n",
       "    <tr>\n",
       "      <th>3</th>\n",
       "      <td>Daniela</td>\n",
       "      <td>42</td>\n",
       "      <td>6500</td>\n",
       "    </tr>\n",
       "    <tr>\n",
       "      <th>4</th>\n",
       "      <td>Eduardo</td>\n",
       "      <td>36</td>\n",
       "      <td>10000</td>\n",
       "    </tr>\n",
       "  </tbody>\n",
       "</table>\n",
       "</div>"
      ],
      "text/plain": [
       "      Nome Idade Salário\n",
       "0      Ana    28    7000\n",
       "1    Bruno    34    8000\n",
       "2   Carlos    29    5000\n",
       "3  Daniela    42    6500\n",
       "4  Eduardo    36   10000"
      ]
     },
     "execution_count": 12,
     "metadata": {},
     "output_type": "execute_result"
    }
   ],
   "source": [
    "# Criando um DataFrame a partir de um array do NumPy\n",
    "data_np = np.array([\n",
    "    ['Ana', 28, 7000],\n",
    "    ['Bruno', 34, 8000],\n",
    "    ['Carlos', 29, 5000],\n",
    "    ['Daniela', 42, 6500],\n",
    "    ['Eduardo', 36, 10000]\n",
    "])\n",
    "df_np = pd.DataFrame(data_np, columns=['Nome', 'Idade', 'Salário'])\n",
    "df_np"
   ]
  },
  {
   "cell_type": "markdown",
   "id": "ed4d8db7-23df-48eb-aa39-b23df6cf3ec7",
   "metadata": {},
   "source": [
    "#### 3.2 Atributos de um DataFrame"
   ]
  },
  {
   "cell_type": "code",
   "execution_count": 13,
   "id": "2a2cc7ae-da62-4c74-b133-f410a6ca779b",
   "metadata": {},
   "outputs": [
    {
     "data": {
      "text/plain": [
       "RangeIndex(start=0, stop=5, step=1)"
      ]
     },
     "execution_count": 13,
     "metadata": {},
     "output_type": "execute_result"
    }
   ],
   "source": [
    "# Índices do DataFrame\n",
    "df.index"
   ]
  },
  {
   "cell_type": "code",
   "execution_count": 14,
   "id": "27c2d76b-2b61-445f-98af-b9a84a6885e6",
   "metadata": {},
   "outputs": [
    {
     "data": {
      "text/plain": [
       "Index(['Nome', 'Idade', 'Salário'], dtype='object')"
      ]
     },
     "execution_count": 14,
     "metadata": {},
     "output_type": "execute_result"
    }
   ],
   "source": [
    "# Colunas do DataFrame\n",
    "df.columns"
   ]
  },
  {
   "cell_type": "code",
   "execution_count": 15,
   "id": "43c52f04-707a-4870-9133-ddee13578e4e",
   "metadata": {},
   "outputs": [
    {
     "data": {
      "text/plain": [
       "array([['Ana', 28, 7000],\n",
       "       ['Bruno', 34, 8000],\n",
       "       ['Carlos', 29, 5000],\n",
       "       ['Daniela', 42, 6500],\n",
       "       ['Eduardo', 36, 10000]], dtype=object)"
      ]
     },
     "execution_count": 15,
     "metadata": {},
     "output_type": "execute_result"
    }
   ],
   "source": [
    "# Valores do DataFrame\n",
    "df.values"
   ]
  },
  {
   "cell_type": "code",
   "execution_count": 16,
   "id": "0d5bd49f-714b-47d5-bfb3-62470400e705",
   "metadata": {},
   "outputs": [
    {
     "name": "stdout",
     "output_type": "stream",
     "text": [
      "<class 'pandas.core.frame.DataFrame'>\n",
      "RangeIndex: 5 entries, 0 to 4\n",
      "Data columns (total 3 columns):\n",
      " #   Column   Non-Null Count  Dtype \n",
      "---  ------   --------------  ----- \n",
      " 0   Nome     5 non-null      object\n",
      " 1   Idade    5 non-null      int64 \n",
      " 2   Salário  5 non-null      int64 \n",
      "dtypes: int64(2), object(1)\n",
      "memory usage: 252.0+ bytes\n"
     ]
    }
   ],
   "source": [
    "# Exibindo informações resumidas do DataFrame\n",
    "df.info()"
   ]
  },
  {
   "cell_type": "code",
   "execution_count": 17,
   "id": "207ca30b-aacc-4852-9d48-84d9cc255a5a",
   "metadata": {},
   "outputs": [
    {
     "data": {
      "text/html": [
       "<div>\n",
       "<style scoped>\n",
       "    .dataframe tbody tr th:only-of-type {\n",
       "        vertical-align: middle;\n",
       "    }\n",
       "\n",
       "    .dataframe tbody tr th {\n",
       "        vertical-align: top;\n",
       "    }\n",
       "\n",
       "    .dataframe thead th {\n",
       "        text-align: right;\n",
       "    }\n",
       "</style>\n",
       "<table border=\"1\" class=\"dataframe\">\n",
       "  <thead>\n",
       "    <tr style=\"text-align: right;\">\n",
       "      <th></th>\n",
       "      <th>Idade</th>\n",
       "      <th>Salário</th>\n",
       "    </tr>\n",
       "  </thead>\n",
       "  <tbody>\n",
       "    <tr>\n",
       "      <th>count</th>\n",
       "      <td>5.000000</td>\n",
       "      <td>5.000000</td>\n",
       "    </tr>\n",
       "    <tr>\n",
       "      <th>mean</th>\n",
       "      <td>33.800000</td>\n",
       "      <td>7300.000000</td>\n",
       "    </tr>\n",
       "    <tr>\n",
       "      <th>std</th>\n",
       "      <td>5.674504</td>\n",
       "      <td>1857.417562</td>\n",
       "    </tr>\n",
       "    <tr>\n",
       "      <th>min</th>\n",
       "      <td>28.000000</td>\n",
       "      <td>5000.000000</td>\n",
       "    </tr>\n",
       "    <tr>\n",
       "      <th>25%</th>\n",
       "      <td>29.000000</td>\n",
       "      <td>6500.000000</td>\n",
       "    </tr>\n",
       "    <tr>\n",
       "      <th>50%</th>\n",
       "      <td>34.000000</td>\n",
       "      <td>7000.000000</td>\n",
       "    </tr>\n",
       "    <tr>\n",
       "      <th>75%</th>\n",
       "      <td>36.000000</td>\n",
       "      <td>8000.000000</td>\n",
       "    </tr>\n",
       "    <tr>\n",
       "      <th>max</th>\n",
       "      <td>42.000000</td>\n",
       "      <td>10000.000000</td>\n",
       "    </tr>\n",
       "  </tbody>\n",
       "</table>\n",
       "</div>"
      ],
      "text/plain": [
       "           Idade       Salário\n",
       "count   5.000000      5.000000\n",
       "mean   33.800000   7300.000000\n",
       "std     5.674504   1857.417562\n",
       "min    28.000000   5000.000000\n",
       "25%    29.000000   6500.000000\n",
       "50%    34.000000   7000.000000\n",
       "75%    36.000000   8000.000000\n",
       "max    42.000000  10000.000000"
      ]
     },
     "execution_count": 17,
     "metadata": {},
     "output_type": "execute_result"
    }
   ],
   "source": [
    "df.describe()"
   ]
  },
  {
   "cell_type": "markdown",
   "id": "bd6654c5-bd55-4b5e-be2e-50e1c3e54f40",
   "metadata": {},
   "source": [
    "### 4. Seleção de Dados\n",
    "\n",
    "#### 4.1 Selecionando Colunas"
   ]
  },
  {
   "cell_type": "code",
   "execution_count": 18,
   "id": "e2ec276a-7141-48f7-ac92-910245dc62c1",
   "metadata": {},
   "outputs": [
    {
     "data": {
      "text/plain": [
       "0        Ana\n",
       "1      Bruno\n",
       "2     Carlos\n",
       "3    Daniela\n",
       "4    Eduardo\n",
       "Name: Nome, dtype: object"
      ]
     },
     "execution_count": 18,
     "metadata": {},
     "output_type": "execute_result"
    }
   ],
   "source": [
    "df['Nome'] # Seleciona a coluna 'Nome'"
   ]
  },
  {
   "cell_type": "code",
   "execution_count": 19,
   "id": "b1a47c0c-9e56-4bf9-9dfd-141c8eb9e3a3",
   "metadata": {},
   "outputs": [
    {
     "data": {
      "text/html": [
       "<div>\n",
       "<style scoped>\n",
       "    .dataframe tbody tr th:only-of-type {\n",
       "        vertical-align: middle;\n",
       "    }\n",
       "\n",
       "    .dataframe tbody tr th {\n",
       "        vertical-align: top;\n",
       "    }\n",
       "\n",
       "    .dataframe thead th {\n",
       "        text-align: right;\n",
       "    }\n",
       "</style>\n",
       "<table border=\"1\" class=\"dataframe\">\n",
       "  <thead>\n",
       "    <tr style=\"text-align: right;\">\n",
       "      <th></th>\n",
       "      <th>Nome</th>\n",
       "      <th>Idade</th>\n",
       "    </tr>\n",
       "  </thead>\n",
       "  <tbody>\n",
       "    <tr>\n",
       "      <th>0</th>\n",
       "      <td>Ana</td>\n",
       "      <td>28</td>\n",
       "    </tr>\n",
       "    <tr>\n",
       "      <th>1</th>\n",
       "      <td>Bruno</td>\n",
       "      <td>34</td>\n",
       "    </tr>\n",
       "    <tr>\n",
       "      <th>2</th>\n",
       "      <td>Carlos</td>\n",
       "      <td>29</td>\n",
       "    </tr>\n",
       "    <tr>\n",
       "      <th>3</th>\n",
       "      <td>Daniela</td>\n",
       "      <td>42</td>\n",
       "    </tr>\n",
       "    <tr>\n",
       "      <th>4</th>\n",
       "      <td>Eduardo</td>\n",
       "      <td>36</td>\n",
       "    </tr>\n",
       "  </tbody>\n",
       "</table>\n",
       "</div>"
      ],
      "text/plain": [
       "      Nome  Idade\n",
       "0      Ana     28\n",
       "1    Bruno     34\n",
       "2   Carlos     29\n",
       "3  Daniela     42\n",
       "4  Eduardo     36"
      ]
     },
     "execution_count": 19,
     "metadata": {},
     "output_type": "execute_result"
    }
   ],
   "source": [
    "df[['Nome', 'Idade']] # Seleciona as colunas 'Nome' e 'Idade'"
   ]
  },
  {
   "cell_type": "code",
   "execution_count": 20,
   "id": "6b0bbbbe-14f1-4629-b817-84f45769d988",
   "metadata": {},
   "outputs": [
    {
     "data": {
      "text/plain": [
       "0        Ana\n",
       "1      Bruno\n",
       "2     Carlos\n",
       "3    Daniela\n",
       "4    Eduardo\n",
       "Name: Nome, dtype: object"
      ]
     },
     "execution_count": 20,
     "metadata": {},
     "output_type": "execute_result"
    }
   ],
   "source": [
    "# Selecionando colunas usando atributos\n",
    "df.Nome"
   ]
  },
  {
   "cell_type": "code",
   "execution_count": 21,
   "id": "6caffe8a-d262-4820-b955-0718a9ae8d4b",
   "metadata": {},
   "outputs": [
    {
     "data": {
      "text/plain": [
       "0    28\n",
       "1    34\n",
       "2    29\n",
       "3    42\n",
       "4    36\n",
       "Name: Idade, dtype: int64"
      ]
     },
     "execution_count": 21,
     "metadata": {},
     "output_type": "execute_result"
    }
   ],
   "source": [
    "df.Idade"
   ]
  },
  {
   "cell_type": "markdown",
   "id": "66d758a0-f845-4c18-bee6-8c76e1c1037e",
   "metadata": {},
   "source": [
    "#### 4.2 Selecionando Linhas"
   ]
  },
  {
   "cell_type": "code",
   "execution_count": 22,
   "id": "74256bdf-bceb-474e-983f-e761b70c2ef9",
   "metadata": {},
   "outputs": [
    {
     "data": {
      "text/plain": [
       "Nome        Ana\n",
       "Idade        28\n",
       "Salário    7000\n",
       "Name: 0, dtype: object"
      ]
     },
     "execution_count": 22,
     "metadata": {},
     "output_type": "execute_result"
    }
   ],
   "source": [
    "df.loc[0] # Seleciona a primeira linha"
   ]
  },
  {
   "cell_type": "code",
   "execution_count": 23,
   "id": "9f18cd64-8ea1-49b7-8454-ca1d9092f9b9",
   "metadata": {},
   "outputs": [
    {
     "data": {
      "text/html": [
       "<div>\n",
       "<style scoped>\n",
       "    .dataframe tbody tr th:only-of-type {\n",
       "        vertical-align: middle;\n",
       "    }\n",
       "\n",
       "    .dataframe tbody tr th {\n",
       "        vertical-align: top;\n",
       "    }\n",
       "\n",
       "    .dataframe thead th {\n",
       "        text-align: right;\n",
       "    }\n",
       "</style>\n",
       "<table border=\"1\" class=\"dataframe\">\n",
       "  <thead>\n",
       "    <tr style=\"text-align: right;\">\n",
       "      <th></th>\n",
       "      <th>Nome</th>\n",
       "      <th>Idade</th>\n",
       "      <th>Salário</th>\n",
       "    </tr>\n",
       "  </thead>\n",
       "  <tbody>\n",
       "    <tr>\n",
       "      <th>1</th>\n",
       "      <td>Bruno</td>\n",
       "      <td>34</td>\n",
       "      <td>8000</td>\n",
       "    </tr>\n",
       "    <tr>\n",
       "      <th>2</th>\n",
       "      <td>Carlos</td>\n",
       "      <td>29</td>\n",
       "      <td>5000</td>\n",
       "    </tr>\n",
       "    <tr>\n",
       "      <th>3</th>\n",
       "      <td>Daniela</td>\n",
       "      <td>42</td>\n",
       "      <td>6500</td>\n",
       "    </tr>\n",
       "  </tbody>\n",
       "</table>\n",
       "</div>"
      ],
      "text/plain": [
       "      Nome  Idade  Salário\n",
       "1    Bruno     34     8000\n",
       "2   Carlos     29     5000\n",
       "3  Daniela     42     6500"
      ]
     },
     "execution_count": 23,
     "metadata": {},
     "output_type": "execute_result"
    }
   ],
   "source": [
    "df.loc[1:3] # Seleciona as linhas de 1 a 3 (inclusivo)"
   ]
  },
  {
   "cell_type": "code",
   "execution_count": 24,
   "id": "9d9522c0-1015-43f3-bfca-d3573bbaf74c",
   "metadata": {},
   "outputs": [
    {
     "data": {
      "text/html": [
       "<div>\n",
       "<style scoped>\n",
       "    .dataframe tbody tr th:only-of-type {\n",
       "        vertical-align: middle;\n",
       "    }\n",
       "\n",
       "    .dataframe tbody tr th {\n",
       "        vertical-align: top;\n",
       "    }\n",
       "\n",
       "    .dataframe thead th {\n",
       "        text-align: right;\n",
       "    }\n",
       "</style>\n",
       "<table border=\"1\" class=\"dataframe\">\n",
       "  <thead>\n",
       "    <tr style=\"text-align: right;\">\n",
       "      <th></th>\n",
       "      <th>Nome</th>\n",
       "      <th>Idade</th>\n",
       "      <th>Salário</th>\n",
       "    </tr>\n",
       "  </thead>\n",
       "  <tbody>\n",
       "    <tr>\n",
       "      <th>1</th>\n",
       "      <td>Bruno</td>\n",
       "      <td>34</td>\n",
       "      <td>8000</td>\n",
       "    </tr>\n",
       "    <tr>\n",
       "      <th>3</th>\n",
       "      <td>Daniela</td>\n",
       "      <td>42</td>\n",
       "      <td>6500</td>\n",
       "    </tr>\n",
       "    <tr>\n",
       "      <th>4</th>\n",
       "      <td>Eduardo</td>\n",
       "      <td>36</td>\n",
       "      <td>10000</td>\n",
       "    </tr>\n",
       "  </tbody>\n",
       "</table>\n",
       "</div>"
      ],
      "text/plain": [
       "      Nome  Idade  Salário\n",
       "1    Bruno     34     8000\n",
       "3  Daniela     42     6500\n",
       "4  Eduardo     36    10000"
      ]
     },
     "execution_count": 24,
     "metadata": {},
     "output_type": "execute_result"
    }
   ],
   "source": [
    "# Selecionando linhas por condição\n",
    "df[df['Idade'] > 30]"
   ]
  },
  {
   "cell_type": "code",
   "execution_count": 25,
   "id": "0cf95098-ded9-4876-86e1-654bbff3a0fe",
   "metadata": {},
   "outputs": [
    {
     "data": {
      "text/html": [
       "<div>\n",
       "<style scoped>\n",
       "    .dataframe tbody tr th:only-of-type {\n",
       "        vertical-align: middle;\n",
       "    }\n",
       "\n",
       "    .dataframe tbody tr th {\n",
       "        vertical-align: top;\n",
       "    }\n",
       "\n",
       "    .dataframe thead th {\n",
       "        text-align: right;\n",
       "    }\n",
       "</style>\n",
       "<table border=\"1\" class=\"dataframe\">\n",
       "  <thead>\n",
       "    <tr style=\"text-align: right;\">\n",
       "      <th></th>\n",
       "      <th>Nome</th>\n",
       "      <th>Idade</th>\n",
       "      <th>Salário</th>\n",
       "    </tr>\n",
       "  </thead>\n",
       "  <tbody>\n",
       "    <tr>\n",
       "      <th>0</th>\n",
       "      <td>Ana</td>\n",
       "      <td>28</td>\n",
       "      <td>7000</td>\n",
       "    </tr>\n",
       "    <tr>\n",
       "      <th>1</th>\n",
       "      <td>Bruno</td>\n",
       "      <td>34</td>\n",
       "      <td>8000</td>\n",
       "    </tr>\n",
       "    <tr>\n",
       "      <th>4</th>\n",
       "      <td>Eduardo</td>\n",
       "      <td>36</td>\n",
       "      <td>10000</td>\n",
       "    </tr>\n",
       "  </tbody>\n",
       "</table>\n",
       "</div>"
      ],
      "text/plain": [
       "      Nome  Idade  Salário\n",
       "0      Ana     28     7000\n",
       "1    Bruno     34     8000\n",
       "4  Eduardo     36    10000"
      ]
     },
     "execution_count": 25,
     "metadata": {},
     "output_type": "execute_result"
    }
   ],
   "source": [
    "df[df['Salário'] >= 7000]"
   ]
  },
  {
   "cell_type": "markdown",
   "id": "0c93fd74-2e1f-4968-babe-338d7a2dedf7",
   "metadata": {},
   "source": [
    "#### 4.3 Seleção com iloc\n",
    "\n",
    "##### Resumo das Diferenças\n",
    "* loc: Seleciona dados com base nos rótulos dos índices e colunas.\n",
    "    * Útil quando você conhece os rótulos.\n",
    "    * Sintaxe: DataFrame.loc[row_labels, column_labels].\n"
   ]
  },
  {
   "cell_type": "markdown",
   "id": "48125f03-9c16-406f-be2d-090fddbb4c42",
   "metadata": {},
   "source": [
    "* iloc: Seleciona dados com base na posição dos índices e colunas.\n",
    "    * Útil quando você conhece as posições.\n",
    "    * Sintaxe: DataFrame.iloc[row_indices, column_indices]."
   ]
  },
  {
   "cell_type": "code",
   "execution_count": 26,
   "id": "0bbdf0d3-dd65-47dc-83b3-8b86d390430d",
   "metadata": {},
   "outputs": [
    {
     "data": {
      "text/plain": [
       "Nome        Ana\n",
       "Idade        28\n",
       "Salário    7000\n",
       "Name: 0, dtype: object"
      ]
     },
     "execution_count": 26,
     "metadata": {},
     "output_type": "execute_result"
    }
   ],
   "source": [
    "# Seleciona a primeira linha (baseado em posição)\n",
    "df.iloc[0]"
   ]
  },
  {
   "cell_type": "code",
   "execution_count": 27,
   "id": "3a78a14b-9aa6-4627-83ad-b739dbd6e333",
   "metadata": {},
   "outputs": [
    {
     "data": {
      "text/html": [
       "<div>\n",
       "<style scoped>\n",
       "    .dataframe tbody tr th:only-of-type {\n",
       "        vertical-align: middle;\n",
       "    }\n",
       "\n",
       "    .dataframe tbody tr th {\n",
       "        vertical-align: top;\n",
       "    }\n",
       "\n",
       "    .dataframe thead th {\n",
       "        text-align: right;\n",
       "    }\n",
       "</style>\n",
       "<table border=\"1\" class=\"dataframe\">\n",
       "  <thead>\n",
       "    <tr style=\"text-align: right;\">\n",
       "      <th></th>\n",
       "      <th>Nome</th>\n",
       "      <th>Idade</th>\n",
       "      <th>Salário</th>\n",
       "    </tr>\n",
       "  </thead>\n",
       "  <tbody>\n",
       "    <tr>\n",
       "      <th>1</th>\n",
       "      <td>Bruno</td>\n",
       "      <td>34</td>\n",
       "      <td>8000</td>\n",
       "    </tr>\n",
       "    <tr>\n",
       "      <th>2</th>\n",
       "      <td>Carlos</td>\n",
       "      <td>29</td>\n",
       "      <td>5000</td>\n",
       "    </tr>\n",
       "  </tbody>\n",
       "</table>\n",
       "</div>"
      ],
      "text/plain": [
       "     Nome  Idade  Salário\n",
       "1   Bruno     34     8000\n",
       "2  Carlos     29     5000"
      ]
     },
     "execution_count": 27,
     "metadata": {},
     "output_type": "execute_result"
    }
   ],
   "source": [
    "# Seleciona as linhas de 1 a 3 (baseado em posição)\n",
    "df.iloc[1:3]"
   ]
  },
  {
   "cell_type": "code",
   "execution_count": 28,
   "id": "40da1392-3b83-4371-9f4c-9b0865031549",
   "metadata": {},
   "outputs": [
    {
     "data": {
      "text/html": [
       "<div>\n",
       "<style scoped>\n",
       "    .dataframe tbody tr th:only-of-type {\n",
       "        vertical-align: middle;\n",
       "    }\n",
       "\n",
       "    .dataframe tbody tr th {\n",
       "        vertical-align: top;\n",
       "    }\n",
       "\n",
       "    .dataframe thead th {\n",
       "        text-align: right;\n",
       "    }\n",
       "</style>\n",
       "<table border=\"1\" class=\"dataframe\">\n",
       "  <thead>\n",
       "    <tr style=\"text-align: right;\">\n",
       "      <th></th>\n",
       "      <th>Nome</th>\n",
       "      <th>Idade</th>\n",
       "    </tr>\n",
       "  </thead>\n",
       "  <tbody>\n",
       "    <tr>\n",
       "      <th>1</th>\n",
       "      <td>Bruno</td>\n",
       "      <td>34</td>\n",
       "    </tr>\n",
       "    <tr>\n",
       "      <th>2</th>\n",
       "      <td>Carlos</td>\n",
       "      <td>29</td>\n",
       "    </tr>\n",
       "  </tbody>\n",
       "</table>\n",
       "</div>"
      ],
      "text/plain": [
       "     Nome  Idade\n",
       "1   Bruno     34\n",
       "2  Carlos     29"
      ]
     },
     "execution_count": 28,
     "metadata": {},
     "output_type": "execute_result"
    }
   ],
   "source": [
    "# Selecionando linhas e colunas com iloc\n",
    "df.iloc[1:3, 0:2]# Seleciona as linhas de 1 a 3 e colunas de 0 a 2"
   ]
  },
  {
   "cell_type": "markdown",
   "id": "933ebf62-02be-4a6f-b18e-8f79ef17844f",
   "metadata": {},
   "source": [
    "### 5. Operações Básicas\n",
    "\n",
    "#### 5.1 Adicionando Colunas"
   ]
  },
  {
   "cell_type": "code",
   "execution_count": 29,
   "id": "9b190e1d-c5f7-42d8-8cea-48864dc6158f",
   "metadata": {},
   "outputs": [
    {
     "data": {
      "text/html": [
       "<div>\n",
       "<style scoped>\n",
       "    .dataframe tbody tr th:only-of-type {\n",
       "        vertical-align: middle;\n",
       "    }\n",
       "\n",
       "    .dataframe tbody tr th {\n",
       "        vertical-align: top;\n",
       "    }\n",
       "\n",
       "    .dataframe thead th {\n",
       "        text-align: right;\n",
       "    }\n",
       "</style>\n",
       "<table border=\"1\" class=\"dataframe\">\n",
       "  <thead>\n",
       "    <tr style=\"text-align: right;\">\n",
       "      <th></th>\n",
       "      <th>Nome</th>\n",
       "      <th>Idade</th>\n",
       "      <th>Salário</th>\n",
       "      <th>Ano de Contratação</th>\n",
       "    </tr>\n",
       "  </thead>\n",
       "  <tbody>\n",
       "    <tr>\n",
       "      <th>0</th>\n",
       "      <td>Ana</td>\n",
       "      <td>28</td>\n",
       "      <td>7000</td>\n",
       "      <td>2015</td>\n",
       "    </tr>\n",
       "    <tr>\n",
       "      <th>1</th>\n",
       "      <td>Bruno</td>\n",
       "      <td>34</td>\n",
       "      <td>8000</td>\n",
       "      <td>2016</td>\n",
       "    </tr>\n",
       "    <tr>\n",
       "      <th>2</th>\n",
       "      <td>Carlos</td>\n",
       "      <td>29</td>\n",
       "      <td>5000</td>\n",
       "      <td>2017</td>\n",
       "    </tr>\n",
       "    <tr>\n",
       "      <th>3</th>\n",
       "      <td>Daniela</td>\n",
       "      <td>42</td>\n",
       "      <td>6500</td>\n",
       "      <td>2018</td>\n",
       "    </tr>\n",
       "    <tr>\n",
       "      <th>4</th>\n",
       "      <td>Eduardo</td>\n",
       "      <td>36</td>\n",
       "      <td>10000</td>\n",
       "      <td>2019</td>\n",
       "    </tr>\n",
       "  </tbody>\n",
       "</table>\n",
       "</div>"
      ],
      "text/plain": [
       "      Nome  Idade  Salário  Ano de Contratação\n",
       "0      Ana     28     7000                2015\n",
       "1    Bruno     34     8000                2016\n",
       "2   Carlos     29     5000                2017\n",
       "3  Daniela     42     6500                2018\n",
       "4  Eduardo     36    10000                2019"
      ]
     },
     "execution_count": 29,
     "metadata": {},
     "output_type": "execute_result"
    }
   ],
   "source": [
    "df['Ano de Contratação'] = [2015, 2016, 2017, 2018, 2019]\n",
    "df"
   ]
  },
  {
   "cell_type": "code",
   "execution_count": 30,
   "id": "1612f308-35d3-478f-9938-9c6896f0d5bb",
   "metadata": {},
   "outputs": [
    {
     "data": {
      "text/html": [
       "<div>\n",
       "<style scoped>\n",
       "    .dataframe tbody tr th:only-of-type {\n",
       "        vertical-align: middle;\n",
       "    }\n",
       "\n",
       "    .dataframe tbody tr th {\n",
       "        vertical-align: top;\n",
       "    }\n",
       "\n",
       "    .dataframe thead th {\n",
       "        text-align: right;\n",
       "    }\n",
       "</style>\n",
       "<table border=\"1\" class=\"dataframe\">\n",
       "  <thead>\n",
       "    <tr style=\"text-align: right;\">\n",
       "      <th></th>\n",
       "      <th>Nome</th>\n",
       "      <th>Idade</th>\n",
       "      <th>Salário</th>\n",
       "      <th>Ano de Contratação</th>\n",
       "      <th>Bônus</th>\n",
       "    </tr>\n",
       "  </thead>\n",
       "  <tbody>\n",
       "    <tr>\n",
       "      <th>0</th>\n",
       "      <td>Ana</td>\n",
       "      <td>28</td>\n",
       "      <td>7000</td>\n",
       "      <td>2015</td>\n",
       "      <td>700.0</td>\n",
       "    </tr>\n",
       "    <tr>\n",
       "      <th>1</th>\n",
       "      <td>Bruno</td>\n",
       "      <td>34</td>\n",
       "      <td>8000</td>\n",
       "      <td>2016</td>\n",
       "      <td>800.0</td>\n",
       "    </tr>\n",
       "    <tr>\n",
       "      <th>2</th>\n",
       "      <td>Carlos</td>\n",
       "      <td>29</td>\n",
       "      <td>5000</td>\n",
       "      <td>2017</td>\n",
       "      <td>500.0</td>\n",
       "    </tr>\n",
       "    <tr>\n",
       "      <th>3</th>\n",
       "      <td>Daniela</td>\n",
       "      <td>42</td>\n",
       "      <td>6500</td>\n",
       "      <td>2018</td>\n",
       "      <td>650.0</td>\n",
       "    </tr>\n",
       "    <tr>\n",
       "      <th>4</th>\n",
       "      <td>Eduardo</td>\n",
       "      <td>36</td>\n",
       "      <td>10000</td>\n",
       "      <td>2019</td>\n",
       "      <td>1000.0</td>\n",
       "    </tr>\n",
       "  </tbody>\n",
       "</table>\n",
       "</div>"
      ],
      "text/plain": [
       "      Nome  Idade  Salário  Ano de Contratação   Bônus\n",
       "0      Ana     28     7000                2015   700.0\n",
       "1    Bruno     34     8000                2016   800.0\n",
       "2   Carlos     29     5000                2017   500.0\n",
       "3  Daniela     42     6500                2018   650.0\n",
       "4  Eduardo     36    10000                2019  1000.0"
      ]
     },
     "execution_count": 30,
     "metadata": {},
     "output_type": "execute_result"
    }
   ],
   "source": [
    "# Adicionando uma coluna calculada\n",
    "df['Bônus'] = df['Salário'] * 0.10\n",
    "df"
   ]
  },
  {
   "cell_type": "markdown",
   "id": "c8719e3b-f72a-4214-a669-f530cd330ed2",
   "metadata": {},
   "source": [
    "#### 5.2 Removendo Colunas"
   ]
  },
  {
   "cell_type": "code",
   "execution_count": 31,
   "id": "2eda81fa-4354-40d6-b4d5-15743cb6d816",
   "metadata": {},
   "outputs": [
    {
     "data": {
      "text/html": [
       "<div>\n",
       "<style scoped>\n",
       "    .dataframe tbody tr th:only-of-type {\n",
       "        vertical-align: middle;\n",
       "    }\n",
       "\n",
       "    .dataframe tbody tr th {\n",
       "        vertical-align: top;\n",
       "    }\n",
       "\n",
       "    .dataframe thead th {\n",
       "        text-align: right;\n",
       "    }\n",
       "</style>\n",
       "<table border=\"1\" class=\"dataframe\">\n",
       "  <thead>\n",
       "    <tr style=\"text-align: right;\">\n",
       "      <th></th>\n",
       "      <th>Nome</th>\n",
       "      <th>Idade</th>\n",
       "      <th>Salário</th>\n",
       "      <th>Bônus</th>\n",
       "    </tr>\n",
       "  </thead>\n",
       "  <tbody>\n",
       "    <tr>\n",
       "      <th>0</th>\n",
       "      <td>Ana</td>\n",
       "      <td>28</td>\n",
       "      <td>7000</td>\n",
       "      <td>700.0</td>\n",
       "    </tr>\n",
       "    <tr>\n",
       "      <th>1</th>\n",
       "      <td>Bruno</td>\n",
       "      <td>34</td>\n",
       "      <td>8000</td>\n",
       "      <td>800.0</td>\n",
       "    </tr>\n",
       "    <tr>\n",
       "      <th>2</th>\n",
       "      <td>Carlos</td>\n",
       "      <td>29</td>\n",
       "      <td>5000</td>\n",
       "      <td>500.0</td>\n",
       "    </tr>\n",
       "    <tr>\n",
       "      <th>3</th>\n",
       "      <td>Daniela</td>\n",
       "      <td>42</td>\n",
       "      <td>6500</td>\n",
       "      <td>650.0</td>\n",
       "    </tr>\n",
       "    <tr>\n",
       "      <th>4</th>\n",
       "      <td>Eduardo</td>\n",
       "      <td>36</td>\n",
       "      <td>10000</td>\n",
       "      <td>1000.0</td>\n",
       "    </tr>\n",
       "  </tbody>\n",
       "</table>\n",
       "</div>"
      ],
      "text/plain": [
       "      Nome  Idade  Salário   Bônus\n",
       "0      Ana     28     7000   700.0\n",
       "1    Bruno     34     8000   800.0\n",
       "2   Carlos     29     5000   500.0\n",
       "3  Daniela     42     6500   650.0\n",
       "4  Eduardo     36    10000  1000.0"
      ]
     },
     "execution_count": 31,
     "metadata": {},
     "output_type": "execute_result"
    }
   ],
   "source": [
    "df = df.drop(columns=['Ano de Contratação'])\n",
    "df"
   ]
  },
  {
   "cell_type": "code",
   "execution_count": 32,
   "id": "51f9fa59-c678-475c-874a-6a7c4fe83841",
   "metadata": {},
   "outputs": [
    {
     "data": {
      "text/html": [
       "<div>\n",
       "<style scoped>\n",
       "    .dataframe tbody tr th:only-of-type {\n",
       "        vertical-align: middle;\n",
       "    }\n",
       "\n",
       "    .dataframe tbody tr th {\n",
       "        vertical-align: top;\n",
       "    }\n",
       "\n",
       "    .dataframe thead th {\n",
       "        text-align: right;\n",
       "    }\n",
       "</style>\n",
       "<table border=\"1\" class=\"dataframe\">\n",
       "  <thead>\n",
       "    <tr style=\"text-align: right;\">\n",
       "      <th></th>\n",
       "      <th>Nome</th>\n",
       "      <th>Idade</th>\n",
       "      <th>Salário</th>\n",
       "    </tr>\n",
       "  </thead>\n",
       "  <tbody>\n",
       "    <tr>\n",
       "      <th>0</th>\n",
       "      <td>Ana</td>\n",
       "      <td>28</td>\n",
       "      <td>7000</td>\n",
       "    </tr>\n",
       "    <tr>\n",
       "      <th>1</th>\n",
       "      <td>Bruno</td>\n",
       "      <td>34</td>\n",
       "      <td>8000</td>\n",
       "    </tr>\n",
       "    <tr>\n",
       "      <th>2</th>\n",
       "      <td>Carlos</td>\n",
       "      <td>29</td>\n",
       "      <td>5000</td>\n",
       "    </tr>\n",
       "    <tr>\n",
       "      <th>3</th>\n",
       "      <td>Daniela</td>\n",
       "      <td>42</td>\n",
       "      <td>6500</td>\n",
       "    </tr>\n",
       "    <tr>\n",
       "      <th>4</th>\n",
       "      <td>Eduardo</td>\n",
       "      <td>36</td>\n",
       "      <td>10000</td>\n",
       "    </tr>\n",
       "  </tbody>\n",
       "</table>\n",
       "</div>"
      ],
      "text/plain": [
       "      Nome  Idade  Salário\n",
       "0      Ana     28     7000\n",
       "1    Bruno     34     8000\n",
       "2   Carlos     29     5000\n",
       "3  Daniela     42     6500\n",
       "4  Eduardo     36    10000"
      ]
     },
     "execution_count": 32,
     "metadata": {},
     "output_type": "execute_result"
    }
   ],
   "source": [
    "# Removendo múltiplas colunas\n",
    "df = df.drop(columns=['Bônus'])\n",
    "df"
   ]
  },
  {
   "cell_type": "markdown",
   "id": "e6c72cd6-404e-4a28-80f2-8780b230076a",
   "metadata": {},
   "source": [
    "### 6. Trabalhando com Dados Ausentes\n",
    "\n",
    "#### 6.1 Identificando Valores Ausentes"
   ]
  },
  {
   "cell_type": "code",
   "execution_count": 33,
   "id": "c8cf9844-4699-48b5-8ccb-3a093ebe0cce",
   "metadata": {},
   "outputs": [
    {
     "data": {
      "text/html": [
       "<div>\n",
       "<style scoped>\n",
       "    .dataframe tbody tr th:only-of-type {\n",
       "        vertical-align: middle;\n",
       "    }\n",
       "\n",
       "    .dataframe tbody tr th {\n",
       "        vertical-align: top;\n",
       "    }\n",
       "\n",
       "    .dataframe thead th {\n",
       "        text-align: right;\n",
       "    }\n",
       "</style>\n",
       "<table border=\"1\" class=\"dataframe\">\n",
       "  <thead>\n",
       "    <tr style=\"text-align: right;\">\n",
       "      <th></th>\n",
       "      <th>Nome</th>\n",
       "      <th>Idade</th>\n",
       "      <th>Salário</th>\n",
       "    </tr>\n",
       "  </thead>\n",
       "  <tbody>\n",
       "    <tr>\n",
       "      <th>0</th>\n",
       "      <td>False</td>\n",
       "      <td>False</td>\n",
       "      <td>False</td>\n",
       "    </tr>\n",
       "    <tr>\n",
       "      <th>1</th>\n",
       "      <td>False</td>\n",
       "      <td>False</td>\n",
       "      <td>False</td>\n",
       "    </tr>\n",
       "    <tr>\n",
       "      <th>2</th>\n",
       "      <td>False</td>\n",
       "      <td>False</td>\n",
       "      <td>False</td>\n",
       "    </tr>\n",
       "    <tr>\n",
       "      <th>3</th>\n",
       "      <td>False</td>\n",
       "      <td>False</td>\n",
       "      <td>False</td>\n",
       "    </tr>\n",
       "    <tr>\n",
       "      <th>4</th>\n",
       "      <td>False</td>\n",
       "      <td>False</td>\n",
       "      <td>False</td>\n",
       "    </tr>\n",
       "  </tbody>\n",
       "</table>\n",
       "</div>"
      ],
      "text/plain": [
       "    Nome  Idade  Salário\n",
       "0  False  False    False\n",
       "1  False  False    False\n",
       "2  False  False    False\n",
       "3  False  False    False\n",
       "4  False  False    False"
      ]
     },
     "execution_count": 33,
     "metadata": {},
     "output_type": "execute_result"
    }
   ],
   "source": [
    "df.isnull()"
   ]
  },
  {
   "cell_type": "code",
   "execution_count": 34,
   "id": "1cdab5cc-253d-4972-97a2-abd4b5bb5874",
   "metadata": {},
   "outputs": [
    {
     "data": {
      "text/plain": [
       "Nome       0\n",
       "Idade      0\n",
       "Salário    0\n",
       "dtype: int64"
      ]
     },
     "execution_count": 34,
     "metadata": {},
     "output_type": "execute_result"
    }
   ],
   "source": [
    "df.isnull().sum()"
   ]
  },
  {
   "cell_type": "code",
   "execution_count": 35,
   "id": "fb7f2e24-5602-47ce-935b-7541a62b87df",
   "metadata": {},
   "outputs": [],
   "source": [
    "# Adicionando dados ausentes para exemplo\n",
    "df.loc[2, 'Salário'] = None"
   ]
  },
  {
   "cell_type": "code",
   "execution_count": 36,
   "id": "78520866-e3b1-41dd-b430-1333e786f995",
   "metadata": {},
   "outputs": [
    {
     "data": {
      "text/html": [
       "<div>\n",
       "<style scoped>\n",
       "    .dataframe tbody tr th:only-of-type {\n",
       "        vertical-align: middle;\n",
       "    }\n",
       "\n",
       "    .dataframe tbody tr th {\n",
       "        vertical-align: top;\n",
       "    }\n",
       "\n",
       "    .dataframe thead th {\n",
       "        text-align: right;\n",
       "    }\n",
       "</style>\n",
       "<table border=\"1\" class=\"dataframe\">\n",
       "  <thead>\n",
       "    <tr style=\"text-align: right;\">\n",
       "      <th></th>\n",
       "      <th>Nome</th>\n",
       "      <th>Idade</th>\n",
       "      <th>Salário</th>\n",
       "    </tr>\n",
       "  </thead>\n",
       "  <tbody>\n",
       "    <tr>\n",
       "      <th>0</th>\n",
       "      <td>False</td>\n",
       "      <td>False</td>\n",
       "      <td>False</td>\n",
       "    </tr>\n",
       "    <tr>\n",
       "      <th>1</th>\n",
       "      <td>False</td>\n",
       "      <td>False</td>\n",
       "      <td>False</td>\n",
       "    </tr>\n",
       "    <tr>\n",
       "      <th>2</th>\n",
       "      <td>False</td>\n",
       "      <td>False</td>\n",
       "      <td>True</td>\n",
       "    </tr>\n",
       "    <tr>\n",
       "      <th>3</th>\n",
       "      <td>False</td>\n",
       "      <td>False</td>\n",
       "      <td>False</td>\n",
       "    </tr>\n",
       "    <tr>\n",
       "      <th>4</th>\n",
       "      <td>False</td>\n",
       "      <td>False</td>\n",
       "      <td>False</td>\n",
       "    </tr>\n",
       "  </tbody>\n",
       "</table>\n",
       "</div>"
      ],
      "text/plain": [
       "    Nome  Idade  Salário\n",
       "0  False  False    False\n",
       "1  False  False    False\n",
       "2  False  False     True\n",
       "3  False  False    False\n",
       "4  False  False    False"
      ]
     },
     "execution_count": 36,
     "metadata": {},
     "output_type": "execute_result"
    }
   ],
   "source": [
    "df.isnull()"
   ]
  },
  {
   "cell_type": "code",
   "execution_count": 37,
   "id": "39539936-a14d-4175-913e-5840b53e852a",
   "metadata": {},
   "outputs": [
    {
     "data": {
      "text/plain": [
       "Nome       0\n",
       "Idade      0\n",
       "Salário    1\n",
       "dtype: int64"
      ]
     },
     "execution_count": 37,
     "metadata": {},
     "output_type": "execute_result"
    }
   ],
   "source": [
    "df.isnull().sum()"
   ]
  },
  {
   "cell_type": "markdown",
   "id": "249d0d43-84f4-4ba2-90ba-5cb4c3ef8f38",
   "metadata": {},
   "source": [
    "#### 6.2 Preenchendo Valores Ausentes"
   ]
  },
  {
   "cell_type": "code",
   "execution_count": 38,
   "id": "d48ff623-8bcc-440b-bd47-3c96d0de8927",
   "metadata": {},
   "outputs": [
    {
     "data": {
      "text/html": [
       "<div>\n",
       "<style scoped>\n",
       "    .dataframe tbody tr th:only-of-type {\n",
       "        vertical-align: middle;\n",
       "    }\n",
       "\n",
       "    .dataframe tbody tr th {\n",
       "        vertical-align: top;\n",
       "    }\n",
       "\n",
       "    .dataframe thead th {\n",
       "        text-align: right;\n",
       "    }\n",
       "</style>\n",
       "<table border=\"1\" class=\"dataframe\">\n",
       "  <thead>\n",
       "    <tr style=\"text-align: right;\">\n",
       "      <th></th>\n",
       "      <th>Nome</th>\n",
       "      <th>Idade</th>\n",
       "      <th>Salário</th>\n",
       "    </tr>\n",
       "  </thead>\n",
       "  <tbody>\n",
       "    <tr>\n",
       "      <th>0</th>\n",
       "      <td>Ana</td>\n",
       "      <td>28</td>\n",
       "      <td>7000.0</td>\n",
       "    </tr>\n",
       "    <tr>\n",
       "      <th>1</th>\n",
       "      <td>Bruno</td>\n",
       "      <td>34</td>\n",
       "      <td>8000.0</td>\n",
       "    </tr>\n",
       "    <tr>\n",
       "      <th>2</th>\n",
       "      <td>Carlos</td>\n",
       "      <td>29</td>\n",
       "      <td>0.0</td>\n",
       "    </tr>\n",
       "    <tr>\n",
       "      <th>3</th>\n",
       "      <td>Daniela</td>\n",
       "      <td>42</td>\n",
       "      <td>6500.0</td>\n",
       "    </tr>\n",
       "    <tr>\n",
       "      <th>4</th>\n",
       "      <td>Eduardo</td>\n",
       "      <td>36</td>\n",
       "      <td>10000.0</td>\n",
       "    </tr>\n",
       "  </tbody>\n",
       "</table>\n",
       "</div>"
      ],
      "text/plain": [
       "      Nome  Idade  Salário\n",
       "0      Ana     28   7000.0\n",
       "1    Bruno     34   8000.0\n",
       "2   Carlos     29      0.0\n",
       "3  Daniela     42   6500.0\n",
       "4  Eduardo     36  10000.0"
      ]
     },
     "execution_count": 38,
     "metadata": {},
     "output_type": "execute_result"
    }
   ],
   "source": [
    "df['Salário'].fillna(0, inplace=True)\n",
    "df"
   ]
  },
  {
   "cell_type": "code",
   "execution_count": 39,
   "id": "c5679943-a4f2-45d3-93b0-797a014b80f2",
   "metadata": {},
   "outputs": [
    {
     "data": {
      "text/html": [
       "<div>\n",
       "<style scoped>\n",
       "    .dataframe tbody tr th:only-of-type {\n",
       "        vertical-align: middle;\n",
       "    }\n",
       "\n",
       "    .dataframe tbody tr th {\n",
       "        vertical-align: top;\n",
       "    }\n",
       "\n",
       "    .dataframe thead th {\n",
       "        text-align: right;\n",
       "    }\n",
       "</style>\n",
       "<table border=\"1\" class=\"dataframe\">\n",
       "  <thead>\n",
       "    <tr style=\"text-align: right;\">\n",
       "      <th></th>\n",
       "      <th>Nome</th>\n",
       "      <th>Idade</th>\n",
       "      <th>Salário</th>\n",
       "    </tr>\n",
       "  </thead>\n",
       "  <tbody>\n",
       "    <tr>\n",
       "      <th>0</th>\n",
       "      <td>Ana</td>\n",
       "      <td>28</td>\n",
       "      <td>7000.0</td>\n",
       "    </tr>\n",
       "    <tr>\n",
       "      <th>1</th>\n",
       "      <td>Bruno</td>\n",
       "      <td>34</td>\n",
       "      <td>8000.0</td>\n",
       "    </tr>\n",
       "    <tr>\n",
       "      <th>2</th>\n",
       "      <td>Carlos</td>\n",
       "      <td>29</td>\n",
       "      <td>7875.0</td>\n",
       "    </tr>\n",
       "    <tr>\n",
       "      <th>3</th>\n",
       "      <td>Daniela</td>\n",
       "      <td>42</td>\n",
       "      <td>6500.0</td>\n",
       "    </tr>\n",
       "    <tr>\n",
       "      <th>4</th>\n",
       "      <td>Eduardo</td>\n",
       "      <td>36</td>\n",
       "      <td>10000.0</td>\n",
       "    </tr>\n",
       "  </tbody>\n",
       "</table>\n",
       "</div>"
      ],
      "text/plain": [
       "      Nome  Idade  Salário\n",
       "0      Ana     28   7000.0\n",
       "1    Bruno     34   8000.0\n",
       "2   Carlos     29   7875.0\n",
       "3  Daniela     42   6500.0\n",
       "4  Eduardo     36  10000.0"
      ]
     },
     "execution_count": 39,
     "metadata": {},
     "output_type": "execute_result"
    }
   ],
   "source": [
    "# Preenchendo valores ausentes com a média da coluna\n",
    "df.loc[2, 'Salário'] = None\n",
    "df['Salário'].fillna(df['Salário'].mean(), inplace=True)\n",
    "df"
   ]
  },
  {
   "cell_type": "markdown",
   "id": "23dc5047-3782-4184-a228-9b28a548aa73",
   "metadata": {},
   "source": [
    "#### 6.3 Removendo Valores Ausentes"
   ]
  },
  {
   "cell_type": "code",
   "execution_count": 40,
   "id": "1f838cdb-93bc-4940-90b7-efb6f13f8a0b",
   "metadata": {},
   "outputs": [
    {
     "data": {
      "text/html": [
       "<div>\n",
       "<style scoped>\n",
       "    .dataframe tbody tr th:only-of-type {\n",
       "        vertical-align: middle;\n",
       "    }\n",
       "\n",
       "    .dataframe tbody tr th {\n",
       "        vertical-align: top;\n",
       "    }\n",
       "\n",
       "    .dataframe thead th {\n",
       "        text-align: right;\n",
       "    }\n",
       "</style>\n",
       "<table border=\"1\" class=\"dataframe\">\n",
       "  <thead>\n",
       "    <tr style=\"text-align: right;\">\n",
       "      <th></th>\n",
       "      <th>Nome</th>\n",
       "      <th>Idade</th>\n",
       "      <th>Salário</th>\n",
       "    </tr>\n",
       "  </thead>\n",
       "  <tbody>\n",
       "    <tr>\n",
       "      <th>0</th>\n",
       "      <td>Ana</td>\n",
       "      <td>28</td>\n",
       "      <td>7000.0</td>\n",
       "    </tr>\n",
       "    <tr>\n",
       "      <th>1</th>\n",
       "      <td>Bruno</td>\n",
       "      <td>34</td>\n",
       "      <td>8000.0</td>\n",
       "    </tr>\n",
       "    <tr>\n",
       "      <th>3</th>\n",
       "      <td>Daniela</td>\n",
       "      <td>42</td>\n",
       "      <td>6500.0</td>\n",
       "    </tr>\n",
       "    <tr>\n",
       "      <th>4</th>\n",
       "      <td>Eduardo</td>\n",
       "      <td>36</td>\n",
       "      <td>10000.0</td>\n",
       "    </tr>\n",
       "  </tbody>\n",
       "</table>\n",
       "</div>"
      ],
      "text/plain": [
       "      Nome  Idade  Salário\n",
       "0      Ana     28   7000.0\n",
       "1    Bruno     34   8000.0\n",
       "3  Daniela     42   6500.0\n",
       "4  Eduardo     36  10000.0"
      ]
     },
     "execution_count": 40,
     "metadata": {},
     "output_type": "execute_result"
    }
   ],
   "source": [
    "df.loc[2, 'Salário'] = None\n",
    "df.dropna(subset=['Salário'], inplace=True)\n",
    "df"
   ]
  },
  {
   "cell_type": "code",
   "execution_count": 41,
   "id": "0049ef60-9d6b-4fe2-af90-c0e01117e498",
   "metadata": {},
   "outputs": [
    {
     "data": {
      "text/html": [
       "<div>\n",
       "<style scoped>\n",
       "    .dataframe tbody tr th:only-of-type {\n",
       "        vertical-align: middle;\n",
       "    }\n",
       "\n",
       "    .dataframe tbody tr th {\n",
       "        vertical-align: top;\n",
       "    }\n",
       "\n",
       "    .dataframe thead th {\n",
       "        text-align: right;\n",
       "    }\n",
       "</style>\n",
       "<table border=\"1\" class=\"dataframe\">\n",
       "  <thead>\n",
       "    <tr style=\"text-align: right;\">\n",
       "      <th></th>\n",
       "      <th>Nome</th>\n",
       "      <th>Idade</th>\n",
       "      <th>Salário</th>\n",
       "    </tr>\n",
       "  </thead>\n",
       "  <tbody>\n",
       "    <tr>\n",
       "      <th>0</th>\n",
       "      <td>Ana</td>\n",
       "      <td>28.0</td>\n",
       "      <td>7000.0</td>\n",
       "    </tr>\n",
       "    <tr>\n",
       "      <th>1</th>\n",
       "      <td>Bruno</td>\n",
       "      <td>34.0</td>\n",
       "      <td>8000.0</td>\n",
       "    </tr>\n",
       "    <tr>\n",
       "      <th>3</th>\n",
       "      <td>Daniela</td>\n",
       "      <td>42.0</td>\n",
       "      <td>6500.0</td>\n",
       "    </tr>\n",
       "    <tr>\n",
       "      <th>4</th>\n",
       "      <td>Eduardo</td>\n",
       "      <td>36.0</td>\n",
       "      <td>10000.0</td>\n",
       "    </tr>\n",
       "  </tbody>\n",
       "</table>\n",
       "</div>"
      ],
      "text/plain": [
       "      Nome  Idade  Salário\n",
       "0      Ana   28.0   7000.0\n",
       "1    Bruno   34.0   8000.0\n",
       "3  Daniela   42.0   6500.0\n",
       "4  Eduardo   36.0  10000.0"
      ]
     },
     "execution_count": 41,
     "metadata": {},
     "output_type": "execute_result"
    }
   ],
   "source": [
    "# Removendo linhas com qualquer valor ausente\n",
    "df.loc[2, 'Salário'] = None\n",
    "df.dropna(inplace=True)\n",
    "df"
   ]
  },
  {
   "cell_type": "markdown",
   "id": "b7a9f531-9d1e-4aa8-bb22-a073bd2f5b5a",
   "metadata": {},
   "source": [
    "## Exercícios"
   ]
  },
  {
   "cell_type": "markdown",
   "id": "a86b463b-ff91-4ed3-a7a1-70a1a4cab67c",
   "metadata": {},
   "source": [
    "#### 1. Exercício : Crie uma Série a partir de uma lista de 5 números e exiba seus valores e índices."
   ]
  },
  {
   "cell_type": "code",
   "id": "51497679-7d40-4107-b4c6-9d3f9038f6b0",
   "metadata": {
    "ExecuteTime": {
     "end_time": "2024-06-25T23:55:32.154666Z",
     "start_time": "2024-06-25T23:55:30.883047Z"
    }
   },
   "source": [
    "import pandas as pd\n",
    "\n",
    "# Criando uma Série a partir de uma lista de 5 números\n",
    "data = [10, 20, 30, 40, 50]\n",
    "series = pd.Series(data)\n",
    "\n",
    "# Exibindo os valores e índices da Série\n",
    "print(\"Valores da Série:\")\n",
    "print(series.values)\n",
    "print(\"Índices da Série:\")\n",
    "print(series.index)\n",
    "print(\"Série completa:\")\n",
    "print(series)\n"
   ],
   "outputs": [
    {
     "name": "stdout",
     "output_type": "stream",
     "text": [
      "Valores da Série:\n",
      "[10 20 30 40 50]\n",
      "Índices da Série:\n",
      "RangeIndex(start=0, stop=5, step=1)\n",
      "Série completa:\n",
      "0    10\n",
      "1    20\n",
      "2    30\n",
      "3    40\n",
      "4    50\n",
      "dtype: int64\n"
     ]
    }
   ],
   "execution_count": 1
  },
  {
   "cell_type": "markdown",
   "id": "d27ed730-276b-46ba-82ee-fc2d12d368e0",
   "metadata": {},
   "source": [
    "#### 2. Exercício : Crie um DataFrame a partir do seguinte dicionário de dados e exiba as colunas e os índices."
   ]
  },
  {
   "cell_type": "code",
   "id": "7d0b3b0b-6c37-4a38-8a7e-98baf5dbc3e9",
   "metadata": {
    "ExecuteTime": {
     "end_time": "2024-06-25T23:57:10.339567Z",
     "start_time": "2024-06-25T23:57:10.312389Z"
    }
   },
   "source": [
    "import pandas as pd\n",
    "\n",
    "# Dicionário de dados\n",
    "dados = {\n",
    "    'Nome': ['Ana', 'Bruno', 'Carlos', 'Daniela', 'Eduardo'],\n",
    "    'Idade': [23, 35, 45, 22, 30],\n",
    "    'Cidade': ['São Paulo', 'Rio de Janeiro', 'Belo Horizonte', 'Porto Alegre', 'Curitiba']\n",
    "}\n",
    "\n",
    "# Criando o DataFrame\n",
    "df = pd.DataFrame(dados)\n",
    "\n",
    "# Exibindo as colunas e os índices do DataFrame\n",
    "print(\"Colunas do DataFrame:\")\n",
    "print(df.columns)\n",
    "print(\"Índices do DataFrame:\")\n",
    "print(df.index)\n",
    "print(\"DataFrame completo:\")\n",
    "print(df)\n"
   ],
   "outputs": [
    {
     "name": "stdout",
     "output_type": "stream",
     "text": [
      "Colunas do DataFrame:\n",
      "Index(['Nome', 'Idade', 'Cidade'], dtype='object')\n",
      "Índices do DataFrame:\n",
      "RangeIndex(start=0, stop=5, step=1)\n",
      "DataFrame completo:\n",
      "      Nome  Idade          Cidade\n",
      "0      Ana     23       São Paulo\n",
      "1    Bruno     35  Rio de Janeiro\n",
      "2   Carlos     45  Belo Horizonte\n",
      "3  Daniela     22    Porto Alegre\n",
      "4  Eduardo     30        Curitiba\n"
     ]
    }
   ],
   "execution_count": 2
  },
  {
   "cell_type": "markdown",
   "id": "5d6f66b8-fe56-4896-937d-db842da1cca7",
   "metadata": {},
   "source": [
    "#### 3. Exercício : Adicione uma coluna 'Desconto' ao DataFrame criado no exercício 2, onde o desconto é 10% do preço."
   ]
  },
  {
   "cell_type": "code",
   "id": "23e81fb0-0216-4ce1-ab2a-921e6331a306",
   "metadata": {
    "ExecuteTime": {
     "end_time": "2024-06-25T23:58:43.051308Z",
     "start_time": "2024-06-25T23:58:43.038362Z"
    }
   },
   "source": [
    "import pandas as pd\n",
    "\n",
    "# Dicionário de dados (incluindo a coluna 'Preço')\n",
    "dados = {\n",
    "    'Nome': ['Ana', 'Bruno', 'Carlos', 'Daniela', 'Eduardo'],\n",
    "    'Idade': [23, 35, 45, 22, 30],\n",
    "    'Cidade': ['São Paulo', 'Rio de Janeiro', 'Belo Horizonte', 'Porto Alegre', 'Curitiba'],\n",
    "    'Preço': [100, 200, 300, 400, 500]  # Valores fictícios para a coluna 'Preço'\n",
    "}\n",
    "\n",
    "# Criando o DataFrame\n",
    "df = pd.DataFrame(dados)\n",
    "\n",
    "# Adicionando a coluna 'Desconto' (10% do preço)\n",
    "df['Desconto'] = df['Preço'] * 0.10\n",
    "\n",
    "# Exibindo o DataFrame completo\n",
    "print(\"DataFrame com a coluna 'Desconto':\")\n",
    "print(df)\n"
   ],
   "outputs": [
    {
     "name": "stdout",
     "output_type": "stream",
     "text": [
      "DataFrame com a coluna 'Desconto':\n",
      "      Nome  Idade          Cidade  Preço  Desconto\n",
      "0      Ana     23       São Paulo    100      10.0\n",
      "1    Bruno     35  Rio de Janeiro    200      20.0\n",
      "2   Carlos     45  Belo Horizonte    300      30.0\n",
      "3  Daniela     22    Porto Alegre    400      40.0\n",
      "4  Eduardo     30        Curitiba    500      50.0\n"
     ]
    }
   ],
   "execution_count": 3
  },
  {
   "cell_type": "markdown",
   "id": "2ba436e8-d10a-421f-ba45-0ea669f207f3",
   "metadata": {},
   "source": [
    "#### 4. Exercício : Usando o DataFrame criado na aula, selecione todos os funcionários com idade superior a 30 anos e exiba apenas as colunas 'Nome' e 'Idade'."
   ]
  },
  {
   "cell_type": "code",
   "id": "e4559def-415b-48af-b572-5544f9dce5dc",
   "metadata": {
    "ExecuteTime": {
     "end_time": "2024-06-25T23:59:24.880180Z",
     "start_time": "2024-06-25T23:59:24.859922Z"
    }
   },
   "source": [
    "import pandas as pd\n",
    "\n",
    "# Dicionário de dados (incluindo a coluna 'Preço' e 'Desconto')\n",
    "dados = {\n",
    "    'Nome': ['Ana', 'Bruno', 'Carlos', 'Daniela', 'Eduardo'],\n",
    "    'Idade': [23, 35, 45, 22, 30],\n",
    "    'Cidade': ['São Paulo', 'Rio de Janeiro', 'Belo Horizonte', 'Porto Alegre', 'Curitiba'],\n",
    "    'Preço': [100, 200, 300, 400, 500],  # Valores fictícios para a coluna 'Preço'\n",
    "    'Desconto': [10.0, 20.0, 30.0, 40.0, 50.0]  # Descontos já calculados\n",
    "}\n",
    "\n",
    "# Criando o DataFrame\n",
    "df = pd.DataFrame(dados)\n",
    "\n",
    "# Filtrando funcionários com idade superior a 30 anos\n",
    "filtro = df['Idade'] > 30\n",
    "\n",
    "# Selecionando as colunas 'Nome' e 'Idade'\n",
    "resultado = df.loc[filtro, ['Nome', 'Idade']]\n",
    "\n",
    "# Exibindo o resultado\n",
    "print(\"Funcionários com idade superior a 30 anos:\")\n",
    "print(resultado)\n"
   ],
   "outputs": [
    {
     "name": "stdout",
     "output_type": "stream",
     "text": [
      "Funcionários com idade superior a 30 anos:\n",
      "     Nome  Idade\n",
      "1   Bruno     35\n",
      "2  Carlos     45\n"
     ]
    }
   ],
   "execution_count": 4
  },
  {
   "cell_type": "markdown",
   "id": "4694a6c4-fba6-4408-a0e0-7c4c98912552",
   "metadata": {},
   "source": [
    "#### 5. Exercício : Crie um novo DataFrame com os mesmos dados do DataFrame original, mas sem a coluna 'Salário'. Em seguida, adicione uma coluna 'Imposto' onde o valor é 15% do salário original."
   ]
  },
  {
   "cell_type": "code",
   "id": "fcee7227-f8c1-4556-8152-e8da2a4a6aa8",
   "metadata": {
    "ExecuteTime": {
     "end_time": "2024-06-26T00:27:15.765053Z",
     "start_time": "2024-06-26T00:27:14.896778Z"
    }
   },
   "source": [
    "import pandas as pd\n",
    "\n",
    "# Dicionário de dados original\n",
    "dados = {\n",
    "    'Nome': ['Ana', 'Bruno', 'Carlos', 'Daniela', 'Eduardo'],\n",
    "    'Idade': [23, 35, 45, 22, 30],\n",
    "    'Cidade': ['São Paulo', 'Rio de Janeiro', 'Belo Horizonte', 'Porto Alegre', 'Curitiba'],\n",
    "    'Salário': [3000, 4000, 5000, 2500, 3500]\n",
    "}\n",
    "\n",
    "# Criando o DataFrame original\n",
    "df = pd.DataFrame(dados)\n",
    "\n",
    "# Criando um novo DataFrame sem a coluna 'Salário'\n",
    "df_sem_salario = df.drop(columns=['Salário'])\n",
    "\n",
    "# Adicionando a coluna 'Imposto' (15% do salário original)\n",
    "df_sem_salario['Imposto'] = df['Salário'] * 0.15\n",
    "\n",
    "# Exibindo o novo DataFrame\n",
    "print(\"Novo DataFrame sem a coluna 'Salário' e com a coluna 'Imposto':\")\n",
    "print(df_sem_salario)\n"
   ],
   "outputs": [
    {
     "name": "stdout",
     "output_type": "stream",
     "text": [
      "Novo DataFrame sem a coluna 'Salário' e com a coluna 'Imposto':\n",
      "      Nome  Idade          Cidade  Imposto\n",
      "0      Ana     23       São Paulo    450.0\n",
      "1    Bruno     35  Rio de Janeiro    600.0\n",
      "2   Carlos     45  Belo Horizonte    750.0\n",
      "3  Daniela     22    Porto Alegre    375.0\n",
      "4  Eduardo     30        Curitiba    525.0\n"
     ]
    }
   ],
   "execution_count": 7
  },
  {
   "cell_type": "code",
   "execution_count": null,
   "id": "039641f0-8b44-4ffb-91de-b7d3c28567cc",
   "metadata": {},
   "outputs": [],
   "source": []
  },
  {
   "cell_type": "markdown",
   "id": "5c2c9339-47b0-42ce-a38b-0dad97d2097f",
   "metadata": {},
   "source": [
    "#### 6. Exercício : Crie um DataFrame a partir do seguinte dicionário de dados:"
   ]
  },
  {
   "cell_type": "code",
   "execution_count": 42,
   "id": "71d08ba8-4977-4b1f-bb89-480e473ed3f9",
   "metadata": {},
   "outputs": [],
   "source": [
    "data = {\n",
    "    'Nome': ['Ana', 'Bruno', 'Carlos', 'Daniela', 'Eduardo'],\n",
    "    'Idade': [28, 34, 29, 42, 36],\n",
    "    'Salário': [7000, 8000, 5000, 6500, 10000]\n",
    "}"
   ]
  },
  {
   "cell_type": "code",
   "id": "6c78e6da-9c2e-4225-81e0-81d070f29f8f",
   "metadata": {
    "ExecuteTime": {
     "end_time": "2024-06-26T00:03:29.900858Z",
     "start_time": "2024-06-26T00:03:29.874852Z"
    }
   },
   "source": [
    "import pandas as pd\n",
    "\n",
    "# Dicionário de dados\n",
    "dados = {\n",
    "    'Nome': ['Ana', 'Bruno', 'Carlos', 'Daniela', 'Eduardo'],\n",
    "    'Idade': [23, 35, 45, 22, 30],\n",
    "    'Cidade': ['São Paulo', 'Rio de Janeiro', 'Belo Horizonte', 'Porto Alegre', 'Curitiba'],\n",
    "    'Salário': [3000, 4000, 5000, 2500, 3500]\n",
    "}\n",
    "\n",
    "# Criando o DataFrame\n",
    "df = pd.DataFrame(dados)\n",
    "\n",
    "# Exibindo o DataFrame\n",
    "print(\"DataFrame criado a partir do dicionário de dados:\")\n",
    "print(df)\n"
   ],
   "outputs": [
    {
     "name": "stdout",
     "output_type": "stream",
     "text": [
      "DataFrame criado a partir do dicionário de dados:\n",
      "      Nome  Idade          Cidade  Salário\n",
      "0      Ana     23       São Paulo     3000\n",
      "1    Bruno     35  Rio de Janeiro     4000\n",
      "2   Carlos     45  Belo Horizonte     5000\n",
      "3  Daniela     22    Porto Alegre     2500\n",
      "4  Eduardo     30        Curitiba     3500\n"
     ]
    }
   ],
   "execution_count": 6
  },
  {
   "cell_type": "code",
   "execution_count": null,
   "id": "992f6a2f-ae3c-4ddd-b5b2-d97e2debfa6e",
   "metadata": {},
   "outputs": [],
   "source": []
  },
  {
   "cell_type": "code",
   "execution_count": null,
   "id": "3bbbb10a-ca4d-48da-bf26-48b6e5ecea20",
   "metadata": {},
   "outputs": [],
   "source": []
  },
  {
   "cell_type": "code",
   "execution_count": null,
   "id": "1afa3010-8ca5-4755-8d68-a6514935e321",
   "metadata": {},
   "outputs": [],
   "source": []
  },
  {
   "cell_type": "code",
   "execution_count": null,
   "id": "8820b0ef-16c2-4991-95a6-e35f78a8ceb2",
   "metadata": {},
   "outputs": [],
   "source": []
  },
  {
   "cell_type": "code",
   "execution_count": null,
   "id": "dc2bbd68-6815-47de-a30f-ed0288d227f7",
   "metadata": {},
   "outputs": [],
   "source": []
  },
  {
   "cell_type": "code",
   "execution_count": null,
   "id": "1d3b2a8f-82e6-4b2b-978c-1bfa44813efd",
   "metadata": {},
   "outputs": [],
   "source": []
  }
 ],
 "metadata": {
  "kernelspec": {
   "display_name": "Python 3 (ipykernel)",
   "language": "python",
   "name": "python3"
  },
  "language_info": {
   "codemirror_mode": {
    "name": "ipython",
    "version": 3
   },
   "file_extension": ".py",
   "mimetype": "text/x-python",
   "name": "python",
   "nbconvert_exporter": "python",
   "pygments_lexer": "ipython3",
   "version": "3.11.7"
  }
 },
 "nbformat": 4,
 "nbformat_minor": 5
}
